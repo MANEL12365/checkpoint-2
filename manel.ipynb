{
  "nbformat": 4,
  "nbformat_minor": 0,
  "metadata": {
    "colab": {
      "name": "manel",
      "provenance": [],
      "collapsed_sections": []
    },
    "kernelspec": {
      "name": "python3",
      "display_name": "Python 3"
    },
    "language_info": {
      "name": "python"
    }
  },
  "cells": [
    {
      "cell_type": "code",
      "metadata": {
        "id": "dO6sFgQmLk84"
      },
      "source": [
        "a=input(\"your first name:\")\n",
        "b=input(\"your last name:\")\n",
        "print(b+\" \"+a)\n",
        "\n",
        "\n"
      ],
      "execution_count": null,
      "outputs": []
    },
    {
      "cell_type": "code",
      "metadata": {
        "id": "5ZSqYOuXlrKX"
      },
      "source": [
        "a=int(input(\"give me an integer:\"))\n",
        "p=str(a)\n",
        "b=p+p\n",
        "c=p+p+p\n",
        "print(int(p)+int(b)+int(c))"
      ],
      "execution_count": null,
      "outputs": []
    },
    {
      "cell_type": "code",
      "metadata": {
        "colab": {
          "base_uri": "https://localhost:8080/"
        },
        "id": "qlYta8NhyZ89",
        "outputId": "5fcb5d49-6eb3-4be9-f4c4-c0098d617994"
      },
      "source": [
        "a=float(input(\"give me a number\"))\n",
        "if a%2==0:\n",
        "  print(a,\"is an even number\")\n",
        "else:print (a,\"is an odd number\")\n"
      ],
      "execution_count": null,
      "outputs": [
        {
          "output_type": "stream",
          "text": [
            "give me a number2\n",
            "2.0 is an even number\n"
          ],
          "name": "stdout"
        }
      ]
    },
    {
      "cell_type": "code",
      "metadata": {
        "id": "aGKJ6h1S9lWU"
      },
      "source": [
        "for i in range (2000,3210):\n",
        "  while (i%5!=0) and(i%7==0):\n",
        "    i=i+1\n",
        "    print(i)"
      ],
      "execution_count": null,
      "outputs": []
    },
    {
      "cell_type": "code",
      "metadata": {
        "id": "UgkkcwKNHft5"
      },
      "source": [
        "str=input(\"give me a string \")\n",
        "removed=\"\"\n",
        "for i in range(len(str)):\n",
        " if i%2==0:\n",
        "   removed=removed+str[i]\n",
        "print(removed)"
      ],
      "execution_count": null,
      "outputs": []
    },
    {
      "cell_type": "code",
      "metadata": {
        "id": "PdipU3uOMN9_"
      },
      "source": [
        "num = int(input(\"Enter a number: \"))\n",
        "factorial=1\n",
        "for i in range(1,num + 1):\n",
        "   factorial = factorial*i\n",
        "\n",
        "print(\"The factorial of\",num,\"is\",factorial)"
      ],
      "execution_count": null,
      "outputs": []
    },
    {
      "cell_type": "code",
      "metadata": {
        "colab": {
          "base_uri": "https://localhost:8080/"
        },
        "id": "Wtpg2gSSCiPo",
        "outputId": "ed18c568-b2e5-43ff-93d3-0d43b2eb413c"
      },
      "source": [
        "p=float(input(\"give me the price\"))\n",
        "if p>=500:\n",
        "  a=p/2\n",
        "  print(a)\n",
        "elif 200<=p:\n",
        "  k=p*0.7\n",
        "  print(k)\n",
        "else :\n",
        "  m=p*0.9\n",
        "  print(m)"
      ],
      "execution_count": 12,
      "outputs": [
        {
          "output_type": "stream",
          "text": [
            "give me the price2000\n",
            "1000.0\n"
          ],
          "name": "stdout"
        }
      ]
    }
  ]
}
