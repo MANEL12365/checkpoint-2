{
  "nbformat": 4,
  "nbformat_minor": 0,
  "metadata": {
    "colab": {
      "name": "Untitled0.ipynb",
      "provenance": []
    },
    "kernelspec": {
      "name": "python3",
      "display_name": "Python 3"
    },
    "language_info": {
      "name": "python"
    }
  },
  "cells": [
    {
      "cell_type": "code",
      "metadata": {
        "id": "_DfnA_17L-M2"
      },
      "source": [
        "n=int(input(\"nbre d element\"))\n",
        "liste=[]\n",
        "res=1\n",
        "for i in range(0,n):\n",
        "  liste.append(int(input(\"donnez un nb\")))\n",
        "print(liste)\n",
        "res=res*liste[i]\n",
        "print(res)"
      ],
      "execution_count": null,
      "outputs": []
    },
    {
      "cell_type": "code",
      "metadata": {
        "colab": {
          "base_uri": "https://localhost:8080/"
        },
        "id": "cBc4Mitbrtyv",
        "outputId": "cd814030-dced-4f52-f604-6c2b840ef6d7"
      },
      "source": [
        "a = [(2, 5), (1, 2), (4, 4), (2, 3), (2, 1)]\n",
        "a.sort(key=second, reverse= True)\n",
        "print(a)"
      ],
      "execution_count": null,
      "outputs": [
        {
          "output_type": "stream",
          "text": [
            "[(2, 5), (4, 4), (2, 3), (1, 2), (2, 1)]\n"
          ],
          "name": "stdout"
        }
      ]
    },
    {
      "cell_type": "code",
      "metadata": {
        "colab": {
          "base_uri": "https://localhost:8080/"
        },
        "id": "YCKkcOB-liI3",
        "outputId": "f980f831-33c7-4da0-a08d-ccad94e4982c"
      },
      "source": [
        "                        \n",
        "d1 = {'a': 100, 'b': 200, 'c':300}\n",
        "d2 = {'a': 300, 'b': 200, 'd':400}\n",
        "d3={}\n",
        "d3=d1\n",
        "for i in d2.keys():\n",
        "  if i in d3.keys():\n",
        "    d3[i]=d3[i]+d2[i]\n",
        "  else:\n",
        "     d3[i]=d2[i]\n",
        "print(d3)"
      ],
      "execution_count": null,
      "outputs": [
        {
          "output_type": "stream",
          "text": [
            "{'a': 300, 'b': 200, 'd': 400}\n"
          ],
          "name": "stdout"
        }
      ]
    },
    {
      "cell_type": "code",
      "metadata": {
        "id": "AHzLEWLib5YR",
        "colab": {
          "base_uri": "https://localhost:8080/"
        },
        "outputId": "9bc1ae8d-42b3-4b71-d80f-bdb18523385a"
      },
      "source": [
        "a=int(input(\"donnezin  nb\"))\n",
        "mydict={}\n",
        "for i in range(1,a+1):\n",
        "  mydict[i]=i*i\n",
        "print(mydict)"
      ],
      "execution_count": 7,
      "outputs": [
        {
          "output_type": "stream",
          "text": [
            "donnezin  nb6\n",
            "{1: 1, 2: 4, 3: 9, 4: 16, 5: 25, 6: 36}\n"
          ],
          "name": "stdout"
        }
      ]
    },
    {
      "cell_type": "code",
      "metadata": {
        "id": "kWm-e9Jpb5b4",
        "colab": {
          "base_uri": "https://localhost:8080/"
        },
        "outputId": "26e662c8-9a62-46f3-b459-2a59ab7ee4eb"
      },
      "source": [
        "list= [('item1', '12.20'), ('item2', '15.10'), ('item3', '24.5')]\n",
        "def mylist(x):\n",
        "  return x[1]\n",
        "list.sort(key=mylist,reverse=True)\n",
        "print(list)\n"
      ],
      "execution_count": 15,
      "outputs": [
        {
          "output_type": "stream",
          "text": [
            "[('item3', '24.5'), ('item2', '15.10'), ('item1', '12.20')]\n"
          ],
          "name": "stdout"
        }
      ]
    }
  ]
}